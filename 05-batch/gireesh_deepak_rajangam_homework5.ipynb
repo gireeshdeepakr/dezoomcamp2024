{
 "cells": [
  {
   "cell_type": "code",
   "execution_count": 9,
   "id": "d569620a",
   "metadata": {},
   "outputs": [
    {
     "name": "stderr",
     "output_type": "stream",
     "text": [
      "24/03/03 14:16:44 WARN SparkSession: Using an existing Spark session; only runtime SQL configurations will take effect.\n",
      "                                                                                \r"
     ]
    },
    {
     "name": "stdout",
     "output_type": "stream",
     "text": [
      "+--------------------+-------------------+-------------------+------------+------------+-------+----------------------+\n",
      "|dispatching_base_num|    pickup_datetime|   dropOff_datetime|PUlocationID|DOlocationID|SR_Flag|Affiliated_base_number|\n",
      "+--------------------+-------------------+-------------------+------------+------------+-------+----------------------+\n",
      "|              B00009|2019-10-01 00:23:00|2019-10-01 00:35:00|         264|         264|   NULL|                B00009|\n",
      "|              B00013|2019-10-01 00:11:29|2019-10-01 00:13:22|         264|         264|   NULL|                B00013|\n",
      "|              B00014|2019-10-01 00:11:43|2019-10-01 00:37:20|         264|         264|   NULL|                B00014|\n",
      "|              B00014|2019-10-01 00:56:29|2019-10-01 00:57:47|         264|         264|   NULL|                B00014|\n",
      "|              B00014|2019-10-01 00:23:09|2019-10-01 00:28:27|         264|         264|   NULL|                B00014|\n",
      "|     B00021         |2019-10-01 00:00:48|2019-10-01 00:07:12|         129|         129|   NULL|       B00021         |\n",
      "|     B00021         |2019-10-01 00:47:23|2019-10-01 00:53:25|          57|          57|   NULL|       B00021         |\n",
      "|     B00021         |2019-10-01 00:10:06|2019-10-01 00:19:50|         173|         173|   NULL|       B00021         |\n",
      "|     B00021         |2019-10-01 00:51:37|2019-10-01 01:06:14|         226|         226|   NULL|       B00021         |\n",
      "|     B00021         |2019-10-01 00:28:23|2019-10-01 00:34:33|          56|          56|   NULL|       B00021         |\n",
      "|     B00021         |2019-10-01 00:31:17|2019-10-01 00:51:52|          82|          82|   NULL|       B00021         |\n",
      "|              B00037|2019-10-01 00:07:41|2019-10-01 00:15:23|         264|          71|   NULL|                B00037|\n",
      "|              B00037|2019-10-01 00:13:38|2019-10-01 00:25:51|         264|          39|   NULL|                B00037|\n",
      "|              B00037|2019-10-01 00:42:40|2019-10-01 00:53:47|         264|         188|   NULL|                B00037|\n",
      "|              B00037|2019-10-01 00:58:46|2019-10-01 01:10:11|         264|          91|   NULL|                B00037|\n",
      "|              B00037|2019-10-01 00:09:49|2019-10-01 00:14:37|         264|          71|   NULL|                B00037|\n",
      "|              B00037|2019-10-01 00:22:35|2019-10-01 00:36:53|         264|          35|   NULL|                B00037|\n",
      "|              B00037|2019-10-01 00:54:27|2019-10-01 01:03:37|         264|          61|   NULL|                B00037|\n",
      "|              B00037|2019-10-01 00:08:12|2019-10-01 00:28:47|         264|         198|   NULL|                B00037|\n",
      "|              B00053|2019-10-01 00:05:24|2019-10-01 00:53:03|         264|         264|   NULL|                  #N/A|\n",
      "+--------------------+-------------------+-------------------+------------+------------+-------+----------------------+\n",
      "only showing top 20 rows\n",
      "\n"
     ]
    }
   ],
   "source": [
    "import pyspark\n",
    "from pyspark.sql import SparkSession\n",
    "\n",
    "spark = SparkSession.builder \\\n",
    "    .master(\"local[*]\") \\\n",
    "    .appName('hm5') \\\n",
    "    .getOrCreate()\n",
    "\n",
    "df = spark.read \\\n",
    "    .option(\"header\", \"true\") \\\n",
    "    .option(\"inferSchema\", \"true\") \\\n",
    "    .csv('/u1/fhv_tripdata_2019-10.csv')\n",
    "\n",
    "df.show()"
   ]
  },
  {
   "cell_type": "code",
   "execution_count": 10,
   "id": "1aa3d292",
   "metadata": {},
   "outputs": [
    {
     "data": {
      "text/plain": [
       "'3.5.1'"
      ]
     },
     "execution_count": 10,
     "metadata": {},
     "output_type": "execute_result"
    }
   ],
   "source": [
    "spark.version"
   ]
  },
  {
   "cell_type": "code",
   "execution_count": 11,
   "id": "46ffb254",
   "metadata": {
    "scrolled": true
   },
   "outputs": [
    {
     "data": {
      "text/plain": [
       "[Row(dispatching_base_num='B00009', pickup_datetime=datetime.datetime(2019, 10, 1, 0, 23), dropOff_datetime=datetime.datetime(2019, 10, 1, 0, 35), PUlocationID=264, DOlocationID=264, SR_Flag=None, Affiliated_base_number='B00009'),\n",
       " Row(dispatching_base_num='B00013', pickup_datetime=datetime.datetime(2019, 10, 1, 0, 11, 29), dropOff_datetime=datetime.datetime(2019, 10, 1, 0, 13, 22), PUlocationID=264, DOlocationID=264, SR_Flag=None, Affiliated_base_number='B00013'),\n",
       " Row(dispatching_base_num='B00014', pickup_datetime=datetime.datetime(2019, 10, 1, 0, 11, 43), dropOff_datetime=datetime.datetime(2019, 10, 1, 0, 37, 20), PUlocationID=264, DOlocationID=264, SR_Flag=None, Affiliated_base_number='B00014'),\n",
       " Row(dispatching_base_num='B00014', pickup_datetime=datetime.datetime(2019, 10, 1, 0, 56, 29), dropOff_datetime=datetime.datetime(2019, 10, 1, 0, 57, 47), PUlocationID=264, DOlocationID=264, SR_Flag=None, Affiliated_base_number='B00014'),\n",
       " Row(dispatching_base_num='B00014', pickup_datetime=datetime.datetime(2019, 10, 1, 0, 23, 9), dropOff_datetime=datetime.datetime(2019, 10, 1, 0, 28, 27), PUlocationID=264, DOlocationID=264, SR_Flag=None, Affiliated_base_number='B00014'),\n",
       " Row(dispatching_base_num='B00021         ', pickup_datetime=datetime.datetime(2019, 10, 1, 0, 0, 48), dropOff_datetime=datetime.datetime(2019, 10, 1, 0, 7, 12), PUlocationID=129, DOlocationID=129, SR_Flag=None, Affiliated_base_number='B00021         '),\n",
       " Row(dispatching_base_num='B00021         ', pickup_datetime=datetime.datetime(2019, 10, 1, 0, 47, 23), dropOff_datetime=datetime.datetime(2019, 10, 1, 0, 53, 25), PUlocationID=57, DOlocationID=57, SR_Flag=None, Affiliated_base_number='B00021         '),\n",
       " Row(dispatching_base_num='B00021         ', pickup_datetime=datetime.datetime(2019, 10, 1, 0, 10, 6), dropOff_datetime=datetime.datetime(2019, 10, 1, 0, 19, 50), PUlocationID=173, DOlocationID=173, SR_Flag=None, Affiliated_base_number='B00021         '),\n",
       " Row(dispatching_base_num='B00021         ', pickup_datetime=datetime.datetime(2019, 10, 1, 0, 51, 37), dropOff_datetime=datetime.datetime(2019, 10, 1, 1, 6, 14), PUlocationID=226, DOlocationID=226, SR_Flag=None, Affiliated_base_number='B00021         '),\n",
       " Row(dispatching_base_num='B00021         ', pickup_datetime=datetime.datetime(2019, 10, 1, 0, 28, 23), dropOff_datetime=datetime.datetime(2019, 10, 1, 0, 34, 33), PUlocationID=56, DOlocationID=56, SR_Flag=None, Affiliated_base_number='B00021         ')]"
      ]
     },
     "execution_count": 11,
     "metadata": {},
     "output_type": "execute_result"
    }
   ],
   "source": [
    "df.head(10)"
   ]
  },
  {
   "cell_type": "code",
   "execution_count": 14,
   "id": "348ab8d7",
   "metadata": {},
   "outputs": [
    {
     "name": "stdout",
     "output_type": "stream",
     "text": [
      "root\n",
      " |-- dispatching_base_num: string (nullable = true)\n",
      " |-- pickup_datetime: timestamp (nullable = true)\n",
      " |-- dropOff_datetime: timestamp (nullable = true)\n",
      " |-- PUlocationID: integer (nullable = true)\n",
      " |-- DOlocationID: integer (nullable = true)\n",
      " |-- SR_Flag: string (nullable = true)\n",
      " |-- Affiliated_base_number: string (nullable = true)\n",
      "\n"
     ]
    }
   ],
   "source": [
    "df.printSchema()"
   ]
  },
  {
   "cell_type": "code",
   "execution_count": 22,
   "id": "533c4cc5",
   "metadata": {},
   "outputs": [],
   "source": [
    "df = df.repartition(6)"
   ]
  },
  {
   "cell_type": "code",
   "execution_count": 23,
   "id": "70f45da6",
   "metadata": {},
   "outputs": [
    {
     "name": "stderr",
     "output_type": "stream",
     "text": [
      "                                                                                \r"
     ]
    }
   ],
   "source": [
    "df.write.parquet('/tmp/fhv_tripdata_2019-10')"
   ]
  },
  {
   "cell_type": "code",
   "execution_count": 24,
   "id": "e16d0f66",
   "metadata": {},
   "outputs": [],
   "source": [
    "df = spark.read.parquet ('/tmp/fhv_tripdata_2019-10')"
   ]
  },
  {
   "cell_type": "code",
   "execution_count": 25,
   "id": "0698db2e",
   "metadata": {},
   "outputs": [
    {
     "name": "stdout",
     "output_type": "stream",
     "text": [
      "root\n",
      " |-- dispatching_base_num: string (nullable = true)\n",
      " |-- pickup_datetime: timestamp (nullable = true)\n",
      " |-- dropOff_datetime: timestamp (nullable = true)\n",
      " |-- PUlocationID: integer (nullable = true)\n",
      " |-- DOlocationID: integer (nullable = true)\n",
      " |-- SR_Flag: string (nullable = true)\n",
      " |-- Affiliated_base_number: string (nullable = true)\n",
      "\n"
     ]
    }
   ],
   "source": [
    "df.printSchema()"
   ]
  },
  {
   "cell_type": "code",
   "execution_count": 43,
   "id": "d835752b",
   "metadata": {},
   "outputs": [
    {
     "name": "stdout",
     "output_type": "stream",
     "text": [
      "+--------------------+-------------------+-------------------+------------+------------+-------+----------------------+-----------+------------+\n",
      "|dispatching_base_num|    pickup_datetime|   dropOff_datetime|PUlocationID|DOlocationID|SR_Flag|Affiliated_base_number|pickup_date|dropoff_date|\n",
      "+--------------------+-------------------+-------------------+------------+------------+-------+----------------------+-----------+------------+\n",
      "|              B01606|2019-10-05 07:00:17|2019-10-05 07:02:30|         264|         227|   NULL|                B01606| 2019-10-05|  2019-10-05|\n",
      "|              B00789|2019-10-08 06:40:10|2019-10-08 07:39:57|         264|         264|   NULL|                B00789| 2019-10-08|  2019-10-08|\n",
      "|              B00900|2019-10-07 07:40:30|2019-10-07 08:12:23|         264|          82|   NULL|                B00900| 2019-10-07|  2019-10-07|\n",
      "|              B00419|2019-10-04 11:28:39|2019-10-04 11:33:25|          51|          51|   NULL|                B00419| 2019-10-04|  2019-10-04|\n",
      "|              B00008|2019-10-07 11:22:00|2019-10-07 11:27:00|         264|         264|   NULL|                B00008| 2019-10-07|  2019-10-07|\n",
      "|              B01601|2019-10-04 13:14:00|2019-10-04 13:19:00|         264|         264|   NULL|                B01601| 2019-10-04|  2019-10-04|\n",
      "|              B02249|2019-10-06 22:44:10|2019-10-06 22:48:21|         264|         129|   NULL|                B02249| 2019-10-06|  2019-10-06|\n",
      "|              B01340|2019-10-08 01:13:56|2019-10-08 01:28:26|         264|          75|   NULL|                B01340| 2019-10-08|  2019-10-08|\n",
      "|              B01239|2019-10-08 07:43:32|2019-10-08 07:46:57|         264|          81|   NULL|                B02882| 2019-10-08|  2019-10-08|\n",
      "|              B03160|2019-10-07 06:33:00|2019-10-07 07:56:00|         117|          33|   NULL|                B02878| 2019-10-07|  2019-10-07|\n",
      "|              B02968|2019-10-08 07:38:29|2019-10-08 07:59:51|         264|         174|   NULL|                B02968| 2019-10-08|  2019-10-08|\n",
      "|              B02641|2019-10-05 18:05:13|2019-10-05 18:13:53|         264|         264|   NULL|                B02641| 2019-10-05|  2019-10-05|\n",
      "|              B02715|2019-10-04 00:01:52|2019-10-04 00:47:20|         138|         265|   NULL|                B02876| 2019-10-04|  2019-10-04|\n",
      "|              B01118|2019-10-01 23:45:07|2019-10-01 23:47:43|         264|          97|   NULL|                B03142| 2019-10-01|  2019-10-01|\n",
      "|              B01949|2019-10-07 22:20:00|2019-10-07 22:50:00|         264|         264|   NULL|                B01949| 2019-10-07|  2019-10-07|\n",
      "|              B02437|2019-10-03 10:14:25|2019-10-03 10:16:31|         264|         248|   NULL|                B02437| 2019-10-03|  2019-10-03|\n",
      "|              B02782|2019-10-07 13:17:00|2019-10-07 13:22:00|         264|         264|   NULL|                B02782| 2019-10-07|  2019-10-07|\n",
      "|              B03080|2019-10-05 14:50:35|2019-10-05 15:21:29|         264|         101|   NULL|                B02550| 2019-10-05|  2019-10-05|\n",
      "|              B00837|2019-10-03 09:50:02|2019-10-03 11:04:16|         264|         264|   NULL|                B00837| 2019-10-03|  2019-10-03|\n",
      "|              B02881|2019-10-08 12:15:54|2019-10-08 12:29:55|          82|         160|   NULL|                B02881| 2019-10-08|  2019-10-08|\n",
      "+--------------------+-------------------+-------------------+------------+------------+-------+----------------------+-----------+------------+\n",
      "only showing top 20 rows\n",
      "\n"
     ]
    }
   ],
   "source": [
    "df.show()"
   ]
  },
  {
   "cell_type": "code",
   "execution_count": 56,
   "id": "022ce32c",
   "metadata": {},
   "outputs": [],
   "source": [
    "from pyspark.sql import col, to_date"
   ]
  },
  {
   "cell_type": "code",
   "execution_count": 49,
   "id": "ae7bb1d7",
   "metadata": {},
   "outputs": [],
   "source": [
    "df = df.withColumn(\"pickup_date\", to_date(col(\"pickup_datetime\")))\n",
    "df = df.withColumn(\"dropoff_date\", to_date(col(\"dropOff_datetime\")))"
   ]
  },
  {
   "cell_type": "code",
   "execution_count": 50,
   "id": "62ceed41",
   "metadata": {},
   "outputs": [
    {
     "name": "stdout",
     "output_type": "stream",
     "text": [
      "+--------------------+-------------------+-------------------+------------+------------+-------+----------------------+-----------+------------+\n",
      "|dispatching_base_num|    pickup_datetime|   dropOff_datetime|PUlocationID|DOlocationID|SR_Flag|Affiliated_base_number|pickup_date|dropoff_date|\n",
      "+--------------------+-------------------+-------------------+------------+------------+-------+----------------------+-----------+------------+\n",
      "|              B01606|2019-10-05 07:00:17|2019-10-05 07:02:30|         264|         227|   NULL|                B01606| 2019-10-05|  2019-10-05|\n",
      "|              B00789|2019-10-08 06:40:10|2019-10-08 07:39:57|         264|         264|   NULL|                B00789| 2019-10-08|  2019-10-08|\n",
      "|              B00900|2019-10-07 07:40:30|2019-10-07 08:12:23|         264|          82|   NULL|                B00900| 2019-10-07|  2019-10-07|\n",
      "|              B00419|2019-10-04 11:28:39|2019-10-04 11:33:25|          51|          51|   NULL|                B00419| 2019-10-04|  2019-10-04|\n",
      "|              B00008|2019-10-07 11:22:00|2019-10-07 11:27:00|         264|         264|   NULL|                B00008| 2019-10-07|  2019-10-07|\n",
      "|              B01601|2019-10-04 13:14:00|2019-10-04 13:19:00|         264|         264|   NULL|                B01601| 2019-10-04|  2019-10-04|\n",
      "|              B02249|2019-10-06 22:44:10|2019-10-06 22:48:21|         264|         129|   NULL|                B02249| 2019-10-06|  2019-10-06|\n",
      "|              B01340|2019-10-08 01:13:56|2019-10-08 01:28:26|         264|          75|   NULL|                B01340| 2019-10-08|  2019-10-08|\n",
      "|              B01239|2019-10-08 07:43:32|2019-10-08 07:46:57|         264|          81|   NULL|                B02882| 2019-10-08|  2019-10-08|\n",
      "|              B03160|2019-10-07 06:33:00|2019-10-07 07:56:00|         117|          33|   NULL|                B02878| 2019-10-07|  2019-10-07|\n",
      "|              B02968|2019-10-08 07:38:29|2019-10-08 07:59:51|         264|         174|   NULL|                B02968| 2019-10-08|  2019-10-08|\n",
      "|              B02641|2019-10-05 18:05:13|2019-10-05 18:13:53|         264|         264|   NULL|                B02641| 2019-10-05|  2019-10-05|\n",
      "|              B02715|2019-10-04 00:01:52|2019-10-04 00:47:20|         138|         265|   NULL|                B02876| 2019-10-04|  2019-10-04|\n",
      "|              B01118|2019-10-01 23:45:07|2019-10-01 23:47:43|         264|          97|   NULL|                B03142| 2019-10-01|  2019-10-01|\n",
      "|              B01949|2019-10-07 22:20:00|2019-10-07 22:50:00|         264|         264|   NULL|                B01949| 2019-10-07|  2019-10-07|\n",
      "|              B02437|2019-10-03 10:14:25|2019-10-03 10:16:31|         264|         248|   NULL|                B02437| 2019-10-03|  2019-10-03|\n",
      "|              B02782|2019-10-07 13:17:00|2019-10-07 13:22:00|         264|         264|   NULL|                B02782| 2019-10-07|  2019-10-07|\n",
      "|              B03080|2019-10-05 14:50:35|2019-10-05 15:21:29|         264|         101|   NULL|                B02550| 2019-10-05|  2019-10-05|\n",
      "|              B00837|2019-10-03 09:50:02|2019-10-03 11:04:16|         264|         264|   NULL|                B00837| 2019-10-03|  2019-10-03|\n",
      "|              B02881|2019-10-08 12:15:54|2019-10-08 12:29:55|          82|         160|   NULL|                B02881| 2019-10-08|  2019-10-08|\n",
      "+--------------------+-------------------+-------------------+------------+------------+-------+----------------------+-----------+------------+\n",
      "only showing top 20 rows\n",
      "\n"
     ]
    }
   ],
   "source": [
    "df.show()"
   ]
  },
  {
   "cell_type": "code",
   "execution_count": 51,
   "id": "e3ac0b24",
   "metadata": {},
   "outputs": [
    {
     "name": "stdout",
     "output_type": "stream",
     "text": [
      "+-------------------+-----------+-------------------+------------+\n",
      "|    pickup_datetime|pickup_date|   dropoff_datetime|dropoff_date|\n",
      "+-------------------+-----------+-------------------+------------+\n",
      "|2019-10-05 07:00:17| 2019-10-05|2019-10-05 07:02:30|  2019-10-05|\n",
      "|2019-10-08 06:40:10| 2019-10-08|2019-10-08 07:39:57|  2019-10-08|\n",
      "|2019-10-07 07:40:30| 2019-10-07|2019-10-07 08:12:23|  2019-10-07|\n",
      "|2019-10-04 11:28:39| 2019-10-04|2019-10-04 11:33:25|  2019-10-04|\n",
      "|2019-10-07 11:22:00| 2019-10-07|2019-10-07 11:27:00|  2019-10-07|\n",
      "|2019-10-04 13:14:00| 2019-10-04|2019-10-04 13:19:00|  2019-10-04|\n",
      "|2019-10-06 22:44:10| 2019-10-06|2019-10-06 22:48:21|  2019-10-06|\n",
      "|2019-10-08 01:13:56| 2019-10-08|2019-10-08 01:28:26|  2019-10-08|\n",
      "|2019-10-08 07:43:32| 2019-10-08|2019-10-08 07:46:57|  2019-10-08|\n",
      "|2019-10-07 06:33:00| 2019-10-07|2019-10-07 07:56:00|  2019-10-07|\n",
      "|2019-10-08 07:38:29| 2019-10-08|2019-10-08 07:59:51|  2019-10-08|\n",
      "|2019-10-05 18:05:13| 2019-10-05|2019-10-05 18:13:53|  2019-10-05|\n",
      "|2019-10-04 00:01:52| 2019-10-04|2019-10-04 00:47:20|  2019-10-04|\n",
      "|2019-10-01 23:45:07| 2019-10-01|2019-10-01 23:47:43|  2019-10-01|\n",
      "|2019-10-07 22:20:00| 2019-10-07|2019-10-07 22:50:00|  2019-10-07|\n",
      "|2019-10-03 10:14:25| 2019-10-03|2019-10-03 10:16:31|  2019-10-03|\n",
      "|2019-10-07 13:17:00| 2019-10-07|2019-10-07 13:22:00|  2019-10-07|\n",
      "|2019-10-05 14:50:35| 2019-10-05|2019-10-05 15:21:29|  2019-10-05|\n",
      "|2019-10-03 09:50:02| 2019-10-03|2019-10-03 11:04:16|  2019-10-03|\n",
      "|2019-10-08 12:15:54| 2019-10-08|2019-10-08 12:29:55|  2019-10-08|\n",
      "+-------------------+-----------+-------------------+------------+\n",
      "only showing top 20 rows\n",
      "\n"
     ]
    }
   ],
   "source": [
    "df.select(\"pickup_datetime\", \"pickup_date\", \"dropoff_datetime\", \"dropoff_date\").show()"
   ]
  },
  {
   "cell_type": "code",
   "execution_count": 57,
   "id": "4df2ed50",
   "metadata": {},
   "outputs": [],
   "source": [
    "oct_15_trips = df.filter(col(\"pickup_date\") == \"2019-10-15\")"
   ]
  },
  {
   "cell_type": "code",
   "execution_count": 58,
   "id": "3cfc03f6",
   "metadata": {},
   "outputs": [
    {
     "name": "stdout",
     "output_type": "stream",
     "text": [
      "+--------------------+-------------------+-------------------+------------+------------+-------+----------------------+-----------+------------+\n",
      "|dispatching_base_num|    pickup_datetime|   dropOff_datetime|PUlocationID|DOlocationID|SR_Flag|Affiliated_base_number|pickup_date|dropoff_date|\n",
      "+--------------------+-------------------+-------------------+------------+------------+-------+----------------------+-----------+------------+\n",
      "|              B01984|2019-10-15 06:40:00|2019-10-15 06:57:00|         264|          92|   NULL|                B01984| 2019-10-15|  2019-10-15|\n",
      "|              B02784|2019-10-15 10:27:03|2019-10-15 11:12:15|          86|          55|   NULL|                  NULL| 2019-10-15|  2019-10-15|\n",
      "|              B03016|2019-10-15 14:53:52|2019-10-15 15:03:03|         264|         254|   NULL|                B02788| 2019-10-15|  2019-10-15|\n",
      "|              B01200|2019-10-15 12:30:14|2019-10-15 13:01:03|         264|          33|   NULL|                B01200| 2019-10-15|  2019-10-15|\n",
      "|              B01280|2019-10-15 14:37:00|2019-10-15 15:01:00|         264|         264|   NULL|                B01280| 2019-10-15|  2019-10-15|\n",
      "|              B00310|2019-10-15 02:26:10|2019-10-15 02:34:10|         264|         248|   NULL|                B02887| 2019-10-15|  2019-10-15|\n",
      "|              B00856|2019-10-15 03:39:16|2019-10-15 03:52:06|         264|          89|   NULL|                B02800| 2019-10-15|  2019-10-15|\n",
      "|     B02279         |2019-10-15 08:04:12|2019-10-15 08:11:29|         187|         187|   NULL|       B02279         | 2019-10-15|  2019-10-15|\n",
      "|     B02279         |2019-10-15 18:02:36|2019-10-15 18:10:16|         265|         187|   NULL|       B02279         | 2019-10-15|  2019-10-15|\n",
      "|              B02849|2019-10-15 06:16:41|2019-10-15 06:32:02|         264|          97|   NULL|                B02849| 2019-10-15|  2019-10-15|\n",
      "|              B00277|2019-10-15 15:57:51|2019-10-15 17:07:12|         264|         264|   NULL|                B00277| 2019-10-15|  2019-10-15|\n",
      "|              B00310|2019-10-15 22:21:10|2019-10-15 22:32:09|         264|         167|   NULL|                B02875| 2019-10-15|  2019-10-15|\n",
      "|              B01061|2019-10-15 14:39:02|2019-10-15 15:13:45|         264|         147|   NULL|                B01061| 2019-10-15|  2019-10-15|\n",
      "|              B02728|2019-10-15 08:10:54|2019-10-15 08:23:30|         264|         208|   NULL|                B02728| 2019-10-15|  2019-10-15|\n",
      "|              B02849|2019-10-15 08:05:50|2019-10-15 08:50:55|         264|          97|   NULL|                B02849| 2019-10-15|  2019-10-15|\n",
      "|              B02416|2019-10-15 16:09:00|2019-10-15 18:44:35|        NULL|        NULL|   NULL|                B02416| 2019-10-15|  2019-10-15|\n",
      "|              B00860|2019-10-15 06:43:42|2019-10-15 07:00:30|         264|         247|   NULL|                B00860| 2019-10-15|  2019-10-15|\n",
      "|              B00937|2019-10-15 13:55:39|2019-10-15 14:17:25|         264|         168|   NULL|                B00937| 2019-10-15|  2019-10-15|\n",
      "|              B01190|2019-10-15 22:45:07|2019-10-15 23:08:46|         264|          37|   NULL|                B01190| 2019-10-15|  2019-10-15|\n",
      "|              B01129|2019-10-15 15:58:00|2019-10-15 16:10:00|         264|         264|   NULL|                B01129| 2019-10-15|  2019-10-15|\n",
      "+--------------------+-------------------+-------------------+------------+------------+-------+----------------------+-----------+------------+\n",
      "only showing top 20 rows\n",
      "\n"
     ]
    }
   ],
   "source": [
    "oct_15_trips.show()"
   ]
  },
  {
   "cell_type": "code",
   "execution_count": 59,
   "id": "8bdec997",
   "metadata": {},
   "outputs": [],
   "source": [
    "num_oct_15_trips = oct_15_trips.count()"
   ]
  },
  {
   "cell_type": "code",
   "execution_count": 60,
   "id": "f4bdcb2d",
   "metadata": {},
   "outputs": [
    {
     "name": "stdout",
     "output_type": "stream",
     "text": [
      "Number of taxi trips on October 15th: 62610\n"
     ]
    }
   ],
   "source": [
    "print(f\"Number of taxi trips on October 15th: {num_oct_15_trips}\")"
   ]
  },
  {
   "cell_type": "code",
   "execution_count": 61,
   "id": "18ec4917",
   "metadata": {},
   "outputs": [
    {
     "data": {
      "text/plain": [
       "['dispatching_base_num',\n",
       " 'pickup_datetime',\n",
       " 'dropOff_datetime',\n",
       " 'PUlocationID',\n",
       " 'DOlocationID',\n",
       " 'SR_Flag',\n",
       " 'Affiliated_base_number',\n",
       " 'pickup_date',\n",
       " 'dropoff_date']"
      ]
     },
     "execution_count": 61,
     "metadata": {},
     "output_type": "execute_result"
    }
   ],
   "source": [
    "df.columns"
   ]
  },
  {
   "cell_type": "code",
   "execution_count": 62,
   "id": "fc20fbd8",
   "metadata": {},
   "outputs": [
    {
     "name": "stdout",
     "output_type": "stream",
     "text": [
      "+-----------+-------------+\n",
      "|pickup_date|max(duration)|\n",
      "+-----------+-------------+\n",
      "| 2019-10-28|   2272149000|\n",
      "| 2019-10-11|   2272149000|\n",
      "| 2019-10-31|    315620787|\n",
      "| 2019-10-01|    252460901|\n",
      "| 2019-10-17|     31658400|\n",
      "+-----------+-------------+\n",
      "\n"
     ]
    }
   ],
   "source": [
    "df \\\n",
    "    .withColumn('duration', df.dropOff_datetime.cast('long') - df.pickup_datetime.cast('long')) \\\n",
    "    .withColumn('pickup_date', F.to_date(df.pickup_datetime)) \\\n",
    "    .groupBy('pickup_date') \\\n",
    "        .max('duration') \\\n",
    "    .orderBy('max(duration)', ascending=False) \\\n",
    "    .limit(5) \\\n",
    "    .show()"
   ]
  },
  {
   "cell_type": "code",
   "execution_count": 65,
   "id": "f4915d4a",
   "metadata": {},
   "outputs": [],
   "source": [
    "df_zones = spark.read \\\n",
    "    .option(\"header\", \"true\") \\\n",
    "    .option(\"inferSchema\", \"true\") \\\n",
    "    .csv('/u1/taxi_zone_lookup.csv')"
   ]
  },
  {
   "cell_type": "code",
   "execution_count": 69,
   "id": "50e9c5f0",
   "metadata": {},
   "outputs": [
    {
     "name": "stdout",
     "output_type": "stream",
     "text": [
      "root\n",
      " |-- LocationID: integer (nullable = true)\n",
      " |-- Borough: string (nullable = true)\n",
      " |-- Zone: string (nullable = true)\n",
      " |-- service_zone: string (nullable = true)\n",
      "\n"
     ]
    }
   ],
   "source": [
    "df_zones.printSchema()"
   ]
  },
  {
   "cell_type": "code",
   "execution_count": 70,
   "id": "7c6c043e",
   "metadata": {},
   "outputs": [
    {
     "name": "stdout",
     "output_type": "stream",
     "text": [
      "+----------+-------------+--------------------+------------+\n",
      "|LocationID|      Borough|                Zone|service_zone|\n",
      "+----------+-------------+--------------------+------------+\n",
      "|         1|          EWR|      Newark Airport|         EWR|\n",
      "|         2|       Queens|         Jamaica Bay|   Boro Zone|\n",
      "|         3|        Bronx|Allerton/Pelham G...|   Boro Zone|\n",
      "|         4|    Manhattan|       Alphabet City| Yellow Zone|\n",
      "|         5|Staten Island|       Arden Heights|   Boro Zone|\n",
      "|         6|Staten Island|Arrochar/Fort Wad...|   Boro Zone|\n",
      "|         7|       Queens|             Astoria|   Boro Zone|\n",
      "|         8|       Queens|        Astoria Park|   Boro Zone|\n",
      "|         9|       Queens|          Auburndale|   Boro Zone|\n",
      "|        10|       Queens|        Baisley Park|   Boro Zone|\n",
      "|        11|     Brooklyn|          Bath Beach|   Boro Zone|\n",
      "|        12|    Manhattan|        Battery Park| Yellow Zone|\n",
      "|        13|    Manhattan|   Battery Park City| Yellow Zone|\n",
      "|        14|     Brooklyn|           Bay Ridge|   Boro Zone|\n",
      "|        15|       Queens|Bay Terrace/Fort ...|   Boro Zone|\n",
      "|        16|       Queens|             Bayside|   Boro Zone|\n",
      "|        17|     Brooklyn|             Bedford|   Boro Zone|\n",
      "|        18|        Bronx|        Bedford Park|   Boro Zone|\n",
      "|        19|       Queens|           Bellerose|   Boro Zone|\n",
      "|        20|        Bronx|             Belmont|   Boro Zone|\n",
      "+----------+-------------+--------------------+------------+\n",
      "only showing top 20 rows\n",
      "\n"
     ]
    }
   ],
   "source": [
    "df_zones.show()"
   ]
  },
  {
   "cell_type": "code",
   "execution_count": 74,
   "id": "f03a1f6a",
   "metadata": {},
   "outputs": [],
   "source": [
    "df_zones.write.parquet('/tmp/taxi_zone_lookup', mode='overwrite')\n",
    "df_zones = spark.read.parquet ('/tmp/taxi_zone_lookup')"
   ]
  },
  {
   "cell_type": "code",
   "execution_count": 75,
   "id": "bf57f6ff",
   "metadata": {},
   "outputs": [],
   "source": [
    "# Register dataframes as temporary views\n",
    "df.createOrReplaceTempView(\"trips\")\n",
    "df_zones.createOrReplaceTempView(\"zones\")"
   ]
  },
  {
   "cell_type": "code",
   "execution_count": 76,
   "id": "7af059a2",
   "metadata": {},
   "outputs": [],
   "source": [
    "# Join the dataframes on PUlocationID\n",
    "joined_df = spark.sql(\"\"\"\n",
    "    SELECT t.*, z.Zone\n",
    "    FROM trips t\n",
    "    JOIN zones z ON t.PUlocationID = z.LocationID\n",
    "\"\"\")"
   ]
  },
  {
   "cell_type": "code",
   "execution_count": 77,
   "id": "2cf550cc",
   "metadata": {},
   "outputs": [],
   "source": [
    "# Count occurrences of each zone\n",
    "zone_counts = joined_df.groupBy(\"Zone\").count()"
   ]
  },
  {
   "cell_type": "code",
   "execution_count": 78,
   "id": "41134067",
   "metadata": {},
   "outputs": [
    {
     "name": "stdout",
     "output_type": "stream",
     "text": [
      "+--------------------+-----+\n",
      "|                Zone|count|\n",
      "+--------------------+-----+\n",
      "|           Homecrest| 1295|\n",
      "|Governor's Island...|    2|\n",
      "|              Corona| 7175|\n",
      "|    Bensonhurst West| 1880|\n",
      "|         Westerleigh| 1317|\n",
      "|      Newark Airport| 2532|\n",
      "|Charleston/Totten...| 2533|\n",
      "|          Douglaston|  291|\n",
      "|      Pelham Parkway| 1522|\n",
      "|East Concourse/Co...| 3294|\n",
      "|          Mount Hope| 3973|\n",
      "|         Marble Hill|  116|\n",
      "|           Rego Park| 1697|\n",
      "|Upper East Side S...| 2358|\n",
      "|       Dyker Heights|  690|\n",
      "|Heartland Village...| 1054|\n",
      "|   Kew Gardens Hills|  906|\n",
      "|     Jackson Heights|10952|\n",
      "|             Bayside| 2547|\n",
      "|TriBeCa/Civic Center| 1918|\n",
      "+--------------------+-----+\n",
      "only showing top 20 rows\n",
      "\n"
     ]
    },
    {
     "name": "stderr",
     "output_type": "stream",
     "text": [
      "                                                                                \r"
     ]
    }
   ],
   "source": [
    "zone_counts.show()"
   ]
  },
  {
   "cell_type": "code",
   "execution_count": 79,
   "id": "25ec9333",
   "metadata": {},
   "outputs": [],
   "source": [
    "# Find the least frequent pickup location zone\n",
    "least_frequent_zone = zone_counts.orderBy(\"count\").first()[\"Zone\"]"
   ]
  },
  {
   "cell_type": "code",
   "execution_count": 80,
   "id": "de0c4f65",
   "metadata": {},
   "outputs": [
    {
     "name": "stdout",
     "output_type": "stream",
     "text": [
      "The LEAST frequent pickup location zone is: Jamaica Bay\n"
     ]
    }
   ],
   "source": [
    "print(f\"The LEAST frequent pickup location zone is: {least_frequent_zone}\")"
   ]
  },
  {
   "cell_type": "code",
   "execution_count": null,
   "id": "0147c671",
   "metadata": {},
   "outputs": [],
   "source": []
  }
 ],
 "metadata": {
  "kernelspec": {
   "display_name": "Python 3 (ipykernel)",
   "language": "python",
   "name": "python3"
  },
  "language_info": {
   "codemirror_mode": {
    "name": "ipython",
    "version": 3
   },
   "file_extension": ".py",
   "mimetype": "text/x-python",
   "name": "python",
   "nbconvert_exporter": "python",
   "pygments_lexer": "ipython3",
   "version": "3.11.5"
  }
 },
 "nbformat": 4,
 "nbformat_minor": 5
}
