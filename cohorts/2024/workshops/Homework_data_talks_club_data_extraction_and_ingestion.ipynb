{
  "nbformat": 4,
  "nbformat_minor": 0,
  "metadata": {
    "colab": {
      "provenance": [],
      "include_colab_link": true
    },
    "kernelspec": {
      "name": "python3",
      "display_name": "Python 3"
    },
    "language_info": {
      "name": "python"
    }
  },
  "cells": [
    {
      "cell_type": "markdown",
      "metadata": {
        "id": "view-in-github",
        "colab_type": "text"
      },
      "source": [
        "<a href=\"https://colab.research.google.com/github/gireeshdeepakr/dezoomcamp2024/blob/main/cohorts/2024/workshops/Homework_data_talks_club_data_extraction_and_ingestion.ipynb\" target=\"_parent\"><img src=\"https://colab.research.google.com/assets/colab-badge.svg\" alt=\"Open In Colab\"/></a>"
      ]
    },
    {
      "cell_type": "markdown",
      "source": [
        "# **Homework**: Data talks club data engineering zoomcamp Data loading workshop\n",
        "\n",
        "Hello folks, let's practice what we learned - Loading data with the best practices of data engineering.\n",
        "\n",
        "Here are the exercises we will do\n",
        "\n",
        "\n"
      ],
      "metadata": {
        "id": "mrTFv5nPClXh"
      }
    },
    {
      "cell_type": "markdown",
      "source": [
        "# 1. Use a generator\n",
        "\n",
        "Remember the concept of generator? Let's practice using them to futher our understanding of how they work.\n",
        "\n",
        "Let's define a generator and then run it as practice.\n",
        "\n",
        "**Answer the following questions:**\n",
        "\n",
        "- **Question 1: What is the sum of the outputs of the generator for limit = 5?**\n",
        "- **Question 2: What is the 13th number yielded**\n",
        "\n",
        "I suggest practicing these questions without GPT as the purpose is to further your learning."
      ],
      "metadata": {
        "id": "wLF4iXf-NR7t"
      }
    },
    {
      "cell_type": "code",
      "source": [
        "def square_root_generator(limit):\n",
        "    n = 1\n",
        "    while n <= limit:\n",
        "        yield n ** 0.5\n",
        "        n += 1\n",
        "\n",
        "# Example usage:\n",
        "limit = 5\n",
        "total = 0\n",
        "generator = square_root_generator(limit)\n",
        "\n",
        "for sqrt_value in generator:\n",
        "    print(sqrt_value);\n",
        "    total += sqrt_value;\n",
        "print(f'Sum of the outputs of the generator for limit = 5 is:',total)"
      ],
      "metadata": {
        "colab": {
          "base_uri": "https://localhost:8080/"
        },
        "id": "wLng-bDJN4jf",
        "outputId": "6d4dea32-9e3c-429e-c252-e23ff8d035ee"
      },
      "execution_count": 68,
      "outputs": [
        {
          "output_type": "stream",
          "name": "stdout",
          "text": [
            "1.0\n",
            "1.4142135623730951\n",
            "1.7320508075688772\n",
            "2.0\n",
            "2.23606797749979\n",
            "Sum of the outputs of the generator for limit = 5 is: 8.382332347441762\n"
          ]
        }
      ]
    },
    {
      "cell_type": "markdown",
      "source": [],
      "metadata": {
        "id": "xbe3q55zN43j"
      }
    },
    {
      "cell_type": "markdown",
      "source": [
        "# 2. Append a generator to a table with existing data\n",
        "\n",
        "\n",
        "Below you have 2 generators. You will be tasked to load them to duckdb and answer some questions from the data\n",
        "\n",
        "1. Load the first generator and calculate the sum of ages of all people. Make sure to only load it once.\n",
        "2. Append the second generator to the same table as the first.\n",
        "3. **After correctly appending the data, calculate the sum of all ages of people.**\n",
        "\n",
        "\n"
      ],
      "metadata": {
        "id": "vjWhILzGJMpK"
      }
    },
    {
      "cell_type": "code",
      "execution_count": 69,
      "metadata": {
        "colab": {
          "base_uri": "https://localhost:8080/"
        },
        "id": "2MoaQcdLBEk6",
        "outputId": "b18c4ca7-2957-4d46-f264-d387ba9c797d"
      },
      "outputs": [
        {
          "output_type": "stream",
          "name": "stdout",
          "text": [
            "{'ID': 1, 'Name': 'Person_1', 'Age': 26, 'City': 'City_A'}\n",
            "{'ID': 2, 'Name': 'Person_2', 'Age': 27, 'City': 'City_A'}\n",
            "{'ID': 3, 'Name': 'Person_3', 'Age': 28, 'City': 'City_A'}\n",
            "{'ID': 4, 'Name': 'Person_4', 'Age': 29, 'City': 'City_A'}\n",
            "{'ID': 5, 'Name': 'Person_5', 'Age': 30, 'City': 'City_A'}\n",
            "First generator sum of ages: 140\n",
            "{'ID': 3, 'Name': 'Person_3', 'Age': 33, 'City': 'City_B', 'Occupation': 'Job_3'}\n",
            "{'ID': 4, 'Name': 'Person_4', 'Age': 34, 'City': 'City_B', 'Occupation': 'Job_4'}\n",
            "{'ID': 5, 'Name': 'Person_5', 'Age': 35, 'City': 'City_B', 'Occupation': 'Job_5'}\n",
            "{'ID': 6, 'Name': 'Person_6', 'Age': 36, 'City': 'City_B', 'Occupation': 'Job_6'}\n",
            "{'ID': 7, 'Name': 'Person_7', 'Age': 37, 'City': 'City_B', 'Occupation': 'Job_7'}\n",
            "{'ID': 8, 'Name': 'Person_8', 'Age': 38, 'City': 'City_B', 'Occupation': 'Job_8'}\n",
            "Second generator sum of ages after append: 353\n"
          ]
        }
      ],
      "source": [
        "def people_1():\n",
        "    for i in range(1, 6):\n",
        "        yield {\"ID\": i, \"Name\": f\"Person_{i}\", \"Age\": 25 + i, \"City\": \"City_A\"}\n",
        "\n",
        "first_generator_sum_of_ages = 0\n",
        "for person in people_1():\n",
        "    print(person)\n",
        "    #print(person[\"Age\"])\n",
        "    first_generator_sum_of_ages += person[\"Age\"]\n",
        "print(f'First generator sum of ages:',first_generator_sum_of_ages)\n",
        "\n",
        "\n",
        "\n",
        "def people_2():\n",
        "    for i in range(3, 9):\n",
        "        yield {\"ID\": i, \"Name\": f\"Person_{i}\", \"Age\": 30 + i, \"City\": \"City_B\", \"Occupation\": f\"Job_{i}\"}\n",
        "second_generator_sum_of_ages = first_generator_sum_of_ages\n",
        "\n",
        "for person in people_2():\n",
        "    print(person)\n",
        "    second_generator_sum_of_ages += person[\"Age\"]\n",
        "print(f'Second generator sum of ages after append:',second_generator_sum_of_ages)\n"
      ]
    },
    {
      "cell_type": "markdown",
      "source": [],
      "metadata": {
        "id": "vtdTIm4fvQCN"
      }
    },
    {
      "cell_type": "markdown",
      "source": [
        "# 3. Merge a generator\n",
        "\n",
        "Re-use the generators from Exercise 2.\n",
        "\n",
        "A table's primary key needs to be created from the start, so load your data to a new table with primary key ID.\n",
        "\n",
        "Load your first generator first, and then load the second one with merge. Since they have overlapping IDs, some of the records from the first load should be replaced by the ones from the second load.\n",
        "\n",
        "After loading, you should have a total of 8 records, and ID 3 should have age 33.\n",
        "\n",
        "Question: **Calculate the sum of ages of all the people loaded as described above.**\n"
      ],
      "metadata": {
        "id": "pY4cFAWOSwN1"
      }
    },
    {
      "cell_type": "markdown",
      "source": [
        "# Solution: First make sure that the following modules are installed:"
      ],
      "metadata": {
        "id": "kKB2GTB9oVjr"
      }
    },
    {
      "cell_type": "code",
      "source": [
        "#Install the dependencies\n",
        "%%capture\n",
        "!pip install dlt[duckdb]"
      ],
      "metadata": {
        "id": "xTVvtyqrfVNq"
      },
      "execution_count": 70,
      "outputs": []
    },
    {
      "cell_type": "code",
      "source": [
        "import duckdb\n",
        "import dlt\n",
        "#import pandas as pd\n",
        "\n",
        "# Initialize DuckDB\n",
        "#con = duckdb.connect(database=':memory:', read_only=False)\n",
        "\n",
        "pipeline = dlt.pipeline(destination=\"duckdb\", dataset_name=\"dlt_workshop\")\n",
        "\n",
        "# Define the generators\n",
        "def people_1():\n",
        "    for i in range(1, 6):\n",
        "        yield {\"ID\": i, \"Name\": f\"Person_{i}\", \"Age\": 25 + i, \"City\": \"City_A\"}\n",
        "\n",
        "def people_2():\n",
        "    for i in range(3, 9):\n",
        "        yield {\"ID\": i, \"Name\": f\"Person_{i}\", \"Age\": 30 + i, \"City\": \"City_B\", \"Occupation\": f\"Job_{i}\"}\n",
        "\n",
        "# Create table and load first generator, use merge disposition so that data will not be duplicated in the subscequent runs\n",
        "info = pipeline.run(people_1(), table_name=\"people\", write_disposition=\"merge\", primary_key= \"id\")\n",
        "# Load the second generator and merge into existng table which has first generator\n",
        "info = pipeline.run(people_2(), table_name=\"people\", write_disposition=\"merge\", primary_key= \"id\")\n",
        "\n",
        "# Print all rows in the people table and calculate the sum of ages\n",
        "with pipeline.sql_client() as client:\n",
        "    conn = client.native_connection\n",
        "    res_1 = conn.sql('SELECT * FROM people ORDER BY ID');\n",
        "    res_2 = conn.sql('SELECT SUM(Age) FROM people');\n",
        "    res_1.show()\n",
        "    res_2.show()\n",
        ""
      ],
      "metadata": {
        "id": "a2-PRBAkGC2K",
        "colab": {
          "base_uri": "https://localhost:8080/"
        },
        "outputId": "d8903987-7e56-490e-f97b-1770afbb102c"
      },
      "execution_count": 71,
      "outputs": [
        {
          "output_type": "stream",
          "name": "stdout",
          "text": [
            "┌───────┬──────────┬───────┬─────────┬────────────────────┬────────────────┬────────────┐\n",
            "│  id   │   name   │  age  │  city   │    _dlt_load_id    │    _dlt_id     │ occupation │\n",
            "│ int64 │ varchar  │ int64 │ varchar │      varchar       │    varchar     │  varchar   │\n",
            "├───────┼──────────┼───────┼─────────┼────────────────────┼────────────────┼────────────┤\n",
            "│     1 │ Person_1 │    26 │ City_A  │ 1708197869.0608485 │ iaG6TLmWKDY0KA │ NULL       │\n",
            "│     2 │ Person_2 │    27 │ City_A  │ 1708197869.0608485 │ OfDGmZSh992vkg │ NULL       │\n",
            "│     3 │ Person_3 │    33 │ City_B  │ 1708197870.3612876 │ 7xByK/a8AcM3Ew │ Job_3      │\n",
            "│     4 │ Person_4 │    34 │ City_B  │ 1708197870.3612876 │ yc1Bhf9xPPx6+Q │ Job_4      │\n",
            "│     5 │ Person_5 │    35 │ City_B  │ 1708197870.3612876 │ F8ZjKAcV7838KQ │ Job_5      │\n",
            "│     6 │ Person_6 │    36 │ City_B  │ 1708197870.3612876 │ un2AdyyyVZpihA │ Job_6      │\n",
            "│     7 │ Person_7 │    37 │ City_B  │ 1708197870.3612876 │ EYsy64R208kRBQ │ Job_7      │\n",
            "│     8 │ Person_8 │    38 │ City_B  │ 1708197870.3612876 │ q+8iKd0ylhSlIg │ Job_8      │\n",
            "└───────┴──────────┴───────┴─────────┴────────────────────┴────────────────┴────────────┘\n",
            "\n",
            "┌──────────┐\n",
            "│ sum(Age) │\n",
            "│  int128  │\n",
            "├──────────┤\n",
            "│      266 │\n",
            "└──────────┘\n",
            "\n"
          ]
        }
      ]
    },
    {
      "cell_type": "markdown",
      "source": [
        "Questions? difficulties? We are here to help.\n",
        "- DTC data engineering course channel: https://datatalks-club.slack.com/archives/C01FABYF2RG\n",
        "- dlt's DTC cohort channel: https://dlthub-community.slack.com/archives/C06GAEX2VNX"
      ],
      "metadata": {
        "id": "PoTJu4kbGG0z"
      }
    }
  ]
}